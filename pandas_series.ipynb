{
 "cells": [
  {
   "attachments": {},
   "cell_type": "markdown",
   "metadata": {},
   "source": [
    "### What is Pandas\n",
    "\n",
    "Pandas is a fast, powerful, flexible and easy to use open source data analysis and manipulation tool,\n",
    "built on top of the Python programming language.\n",
    "\n",
    "https://pandas.pydata.org/about/index.html"
   ]
  },
  {
   "attachments": {},
   "cell_type": "markdown",
   "metadata": {},
   "source": [
    "### Pandas Series\n",
    "\n",
    "A Pandas Series is like **a column** in a table. It is a 1-D array holding data of any type.\n",
    "\n",
    "Python Pandas is a widely used open-source library that provides data manipulation and analysis tools for Python. It is built on top of the NumPy package and allows users to manipulate and analyze data in a variety of ways.\n",
    "\n",
    "Pandas provides **two primary data structures, Series and DataFrame**. A Series is a one-dimensional array-like object that can hold any data type, such as integers, floating-point numbers, strings, and Python objects. A DataFrame is a two-dimensional table that can hold data of different types in each column. It is similar to a spreadsheet or a SQL table.\n",
    "\n",
    "Pandas provides many functions for data manipulation, **including data cleaning, merging, and reshaping**. It also offers data analysis functions like data visualization, statistical analysis, and time-series analysis. Pandas is widely used in data science, machine learning, finance, and other fields where data analysis and manipulation are essential."
   ]
  },
  {
   "attachments": {},
   "cell_type": "markdown",
   "metadata": {},
   "source": [
    "### Importing Pandas"
   ]
  },
  {
   "cell_type": "code",
   "execution_count": null,
   "metadata": {
    "vscode": {
     "languageId": "plaintext"
    }
   },
   "outputs": [],
   "source": [
    "import numpy as np\n",
    "import pandas as pd"
   ]
  },
  {
   "cell_type": "code",
   "execution_count": null,
   "metadata": {
    "vscode": {
     "languageId": "plaintext"
    }
   },
   "outputs": [],
   "source": []
  }
 ],
 "metadata": {
  "language_info": {
   "name": "python"
  },
  "orig_nbformat": 4
 },
 "nbformat": 4,
 "nbformat_minor": 2
}
